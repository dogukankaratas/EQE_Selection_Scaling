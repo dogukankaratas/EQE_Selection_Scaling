{
 "cells": [
  {
   "cell_type": "code",
   "execution_count": 7,
   "source": [
    "import pandas as pd\r\n",
    "import os\r\n",
    "\r\n",
    "flat = pd.read_excel('flat_psuedo.xlsx')\r\n",
    "\r\n",
    "records = os.listdir('records')\r\n",
    "del (records[0])\r\n",
    "\r\n",
    "rsn = flat['Record Sequence Number'].to_list()\r\n",
    "file_x = flat['File Name (Horizontal 1)'].to_list()\r\n",
    "file_y = flat['File Name (Horizontal 2)'].to_list()"
   ],
   "outputs": [],
   "metadata": {}
  },
  {
   "cell_type": "code",
   "execution_count": 8,
   "source": [
    "def ReadPeer_acc(filepath):\r\n",
    "\r\n",
    "    fileName = filepath.split(os.path.sep)[-1].replace(\".at2\", \"\")\r\n",
    "    with open(filepath) as f:\r\n",
    "        acc = []\r\n",
    "        for no, line in enumerate(f.readlines()):\r\n",
    "            if no == 3:\r\n",
    "                no_data = int(line.split(\",\")[0].split()[1])\r\n",
    "                dt = float(line.split(\",\")[1].split()[1])\r\n",
    "            if no > 3:\r\n",
    "                [acc.append(float(item)) for item in line.split()]\r\n",
    "    time = [dt * item for item in range(no_data)]\r\n",
    "    return(acc)"
   ],
   "outputs": [],
   "metadata": {}
  },
  {
   "cell_type": "code",
   "execution_count": 9,
   "source": [
    "def ReadPeer_dt(filepath):\r\n",
    "\r\n",
    "    fileName = filepath.split(os.path.sep)[-1].replace(\".at2\", \"\")\r\n",
    "    with open(filepath) as f:\r\n",
    "        acc = []\r\n",
    "        for no, line in enumerate(f.readlines()):\r\n",
    "            if no == 3:\r\n",
    "                no_data = int(line.split(\",\")[0].split()[1])\r\n",
    "                dt = float(line.split(\",\")[1].split()[1])\r\n",
    "            if no > 3:\r\n",
    "                [acc.append(float(item)) for item in line.split()]\r\n",
    "    time = [dt * item for item in range(no_data)]\r\n",
    "    return(dt)"
   ],
   "outputs": [],
   "metadata": {}
  },
  {
   "cell_type": "code",
   "execution_count": 10,
   "source": [
    "def ResponseSpectra(acceleration, sampling_interval, damping_ratio = 0.05, Tmax = 4, T_int = 0.05):\r\n",
    "\r\n",
    "    '''      \r\n",
    "    Response spectra using piecewise\r\n",
    "    \r\n",
    "    Input:\r\n",
    "        T: vector with periods (s)\r\n",
    "        s: acceleration time series\r\n",
    "        zi: damping ratio\r\n",
    "        dt: time steps for s\r\n",
    "    \r\n",
    "    Returns:\r\n",
    "        PSA, PSV, SA, SV, SD\r\n",
    "    '''\r\n",
    "\r\n",
    "    import numpy as np\r\n",
    "    T = np.arange(  T_int , Tmax + T_int , T_int)\r\n",
    "    s = acceleration\r\n",
    "    zi = damping_ratio\r\n",
    "    dt = sampling_interval\r\n",
    "\r\n",
    "    pi = np.pi\r\n",
    "    \r\n",
    "    nper = np.size(T)\t\t\t\t\t\t      # number of natural periods\r\n",
    "    n    = np.size(s)                             # length of record\r\n",
    "    \r\n",
    "    SD   = np.zeros(nper)\t\t\t\t          # rel. displac. spectrum\r\n",
    "    SV   = np.zeros(nper)\t\t\t\t          # rel. vel. spectrum\r\n",
    "    SA   = np.zeros(nper)\t\t\t\t          # total acc. spectrum\t\r\n",
    "     \r\n",
    "    \r\n",
    "    for k in range(nper):\r\n",
    "       wn = 2*pi/T[k]\r\n",
    "       wd = wn*(1-zi**2)**(1/2)\r\n",
    "       \r\n",
    "       u = np.zeros((2,n))          # matrix with velocities and displacements\r\n",
    "       \r\n",
    "       ex = np.exp(-zi*wn*dt)\r\n",
    "       cwd = np.cos(wd*dt)\r\n",
    "       swd = np.sin(wd*dt)\r\n",
    "       zisq = 1/(np.sqrt(1-(zi**2)))\r\n",
    "    \r\n",
    "       a11 = ex*(cwd+zi*zisq*swd)\r\n",
    "       a12 = (ex/wd)*swd\r\n",
    "       a21 = -wn*zisq*ex*swd\r\n",
    "       a22 = ex*(cwd-zi*zisq*swd)\r\n",
    "    \r\n",
    "       b11 = ex*(((2*zi**2-1)/((wn**2)*dt)+zi/wn)*(1/wd)*np.sin(wd*dt)+\r\n",
    "           (2*zi/((wn**3)*dt)+1/(wn**2))*np.cos(wd*dt))-2*zi/((wn**3)*dt)\r\n",
    "       b12 = -ex*(((2*zi**2-1)/((wn**2)*dt))*(1/wd)*np.sin(wd*dt)+\r\n",
    "           (2*zi/((wn**3)*dt))*np.cos(wd*dt))-(1/(wn**2))+2*zi/((wn**3)*dt)\r\n",
    "       b21 = -((a11-1)/((wn**2)*dt))-a12\r\n",
    "       b22 = -b21-a12\r\n",
    "       \r\n",
    "       A = np.array([[a11,a12],[a21,a22]])\r\n",
    "       B = np.array([[b11,b12],[b21,b22]])\r\n",
    "    \r\n",
    "       for q in range(n-1):\r\n",
    "          u[:,q+1] = np.dot(A,u[:,q]) + np.dot(B,np.array([s[q],s[q+1]]))\r\n",
    "       \r\n",
    "       at = -2*wn*zi*u[1,:]-(wn**2)*u[0,:]\r\n",
    "       \r\n",
    "       SD[k]   = np.max( np.abs(u[0,:]) )\r\n",
    "       SV[k]   = np.max( np.abs(u[1,:]) )\r\n",
    "       SA[k]   = np.max( np.abs(at) )\r\n",
    "    \r\n",
    "    PSV = (2*pi/T)*SD                    # pseudo-vel. spectrum\r\n",
    "    PSA = (2*pi/T)**2 *SD  \t             # pseudo-accel. spectrum\r\n",
    "    \r\n",
    "    return SA"
   ],
   "outputs": [],
   "metadata": {}
  },
  {
   "cell_type": "code",
   "execution_count": 12,
   "source": [
    "spectra_x = {}\r\n",
    "spectra_y = {}\r\n",
    "\r\n",
    "for i, j in zip(rsn, file_x):\r\n",
    "    spectra_x[i] = ResponseSpectra(ReadPeer_acc('records/' + j), ReadPeer_dt('records/' + j))\r\n",
    "for i, j in zip(rsn, file_y):\r\n",
    "    spectra_y[i] = ResponseSpectra(ReadPeer_acc('records/' + j), ReadPeer_dt('records/' + j))"
   ],
   "outputs": [],
   "metadata": {}
  },
  {
   "cell_type": "code",
   "execution_count": 15,
   "source": [
    "records_spectra_x = pd.DataFrame(spectra_x)\r\n",
    "records_spectra_y = pd.DataFrame(spectra_y)"
   ],
   "outputs": [],
   "metadata": {}
  },
  {
   "cell_type": "code",
   "execution_count": 17,
   "source": [
    "records_spectra_x.to_csv('records_spectra_x.csv')\r\n",
    "records_spectra_y.to_csv('records_spectra_y.csv')"
   ],
   "outputs": [],
   "metadata": {}
  }
 ],
 "metadata": {
  "kernelspec": {
   "name": "python3",
   "display_name": "Python 3.8.9 64-bit"
  },
  "language_info": {
   "codemirror_mode": {
    "name": "ipython",
    "version": 3
   },
   "file_extension": ".py",
   "mimetype": "text/x-python",
   "name": "python",
   "nbconvert_exporter": "python",
   "pygments_lexer": "ipython3",
   "version": "3.8.9"
  },
  "interpreter": {
   "hash": "0336484af33f5c7151096e1cf228a578b6db634fc8bd65186790f9824a2dbaad"
  }
 },
 "nbformat": 4,
 "nbformat_minor": 5
}