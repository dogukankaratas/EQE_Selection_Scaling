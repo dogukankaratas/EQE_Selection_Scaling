{
 "cells": [
  {
   "cell_type": "code",
   "execution_count": null,
   "metadata": {},
   "outputs": [],
   "source": [
    "import scalepy as sp\n",
    "\n",
    "target = sp.targetSpectrum(0.8, 0.4, 'ZA')\n",
    "record_keys = sp.recordSelection('6 8', '0 250', '0 250', 'Strike - Slip', '0 15', '0 20', '0 5', target)\n",
    "sp.amplitudeScaling(record_keys, target, .2 )"
   ]
  },
  {
   "cell_type": "code",
   "execution_count": null,
   "metadata": {},
   "outputs": [],
   "source": []
  }
 ],
 "metadata": {
  "interpreter": {
   "hash": "0336484af33f5c7151096e1cf228a578b6db634fc8bd65186790f9824a2dbaad"
  },
  "kernelspec": {
   "display_name": "Python 3.8.9 64-bit",
   "language": "python",
   "name": "python3"
  },
  "language_info": {
   "codemirror_mode": {
    "name": "ipython",
    "version": 3
   },
   "file_extension": ".py",
   "mimetype": "text/x-python",
   "name": "python",
   "nbconvert_exporter": "python",
   "pygments_lexer": "ipython3",
   "version": "3.8.1"
  },
  "orig_nbformat": 4
 },
 "nbformat": 4,
 "nbformat_minor": 2
}
