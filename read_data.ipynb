{
 "cells": [
  {
   "cell_type": "code",
   "execution_count": 17,
   "metadata": {},
   "outputs": [],
   "source": [
    "import pandas as pd\n",
    "\n",
    "\n",
    "meta_data = pd.read_csv(\"meta_data.csv\")\n",
    "spectral_data = pd.read_csv(\"spectral_data.csv\")\n",
    "\n",
    "vertical_index = []\n",
    "for i, j in zip(spectral_data['RSN'], spectral_data.index.tolist()):\n",
    "    if 'Vertical' in i:\n",
    "        vertical_index.append(j)\n",
    "spectral_horizontal = spectral_data.drop(index = vertical_index)"
   ]
  },
  {
   "cell_type": "code",
   "execution_count": 18,
   "metadata": {},
   "outputs": [],
   "source": [
    "y_index = []\n",
    "for i, j in zip(spectral_horizontal['RSN'], spectral_horizontal.index.tolist()):\n",
    "    if 'Horizontal-2' in i:\n",
    "        y_index.append(j)\n",
    "spectral_x = spectral_horizontal.drop(index=y_index)\n"
   ]
  },
  {
   "cell_type": "code",
   "execution_count": 19,
   "metadata": {},
   "outputs": [],
   "source": [
    "x_index = []\n",
    "for i, j in zip(spectral_horizontal['RSN'], spectral_horizontal.index.tolist()):\n",
    "    if 'Horizontal-1' in i:\n",
    "        x_index.append(j)\n",
    "spectral_y = spectral_horizontal.drop(index=x_index)\n"
   ]
  },
  {
   "cell_type": "code",
   "execution_count": 20,
   "metadata": {},
   "outputs": [],
   "source": [
    "rsn_x = []\n",
    "for i in spectral_x['RSN'].tolist():\n",
    "    rsn_x.append(i.split(\"-\")[1].split(\" \")[0])\n",
    "\n",
    "rsn_y = []\n",
    "for j in spectral_y['RSN'].tolist():\n",
    "    rsn_y.append(j.split(\"-\")[1].split(\" \")[0])"
   ]
  },
  {
   "cell_type": "code",
   "execution_count": 21,
   "metadata": {},
   "outputs": [],
   "source": [
    "spectral_x['RSN'] = rsn_x\n",
    "spectral_y['RSN'] = rsn_y\n",
    "\n",
    "del spectral_x['Unnamed: 0']\n",
    "del spectral_y['Unnamed: 0']\n",
    "\n",
    "spectral_x.to_csv(\"spectral_x.csv\")\n",
    "spectral_y.to_csv(\"spectral_y.csv\")"
   ]
  },
  {
   "cell_type": "code",
   "execution_count": null,
   "metadata": {},
   "outputs": [],
   "source": []
  },
  {
   "cell_type": "code",
   "execution_count": null,
   "metadata": {},
   "outputs": [],
   "source": []
  },
  {
   "cell_type": "code",
   "execution_count": null,
   "metadata": {},
   "outputs": [],
   "source": []
  },
  {
   "cell_type": "code",
   "execution_count": null,
   "metadata": {},
   "outputs": [],
   "source": []
  },
  {
   "cell_type": "code",
   "execution_count": null,
   "metadata": {},
   "outputs": [],
   "source": []
  },
  {
   "cell_type": "code",
   "execution_count": null,
   "metadata": {},
   "outputs": [],
   "source": []
  },
  {
   "cell_type": "code",
   "execution_count": null,
   "metadata": {},
   "outputs": [],
   "source": []
  },
  {
   "cell_type": "code",
   "execution_count": null,
   "metadata": {},
   "outputs": [],
   "source": []
  },
  {
   "cell_type": "code",
   "execution_count": null,
   "metadata": {},
   "outputs": [],
   "source": []
  },
  {
   "cell_type": "code",
   "execution_count": null,
   "metadata": {},
   "outputs": [],
   "source": []
  },
  {
   "cell_type": "code",
   "execution_count": null,
   "metadata": {},
   "outputs": [],
   "source": []
  },
  {
   "cell_type": "code",
   "execution_count": null,
   "metadata": {},
   "outputs": [],
   "source": []
  },
  {
   "cell_type": "code",
   "execution_count": null,
   "metadata": {},
   "outputs": [],
   "source": []
  },
  {
   "cell_type": "code",
   "execution_count": null,
   "metadata": {},
   "outputs": [],
   "source": []
  }
 ],
 "metadata": {
  "interpreter": {
   "hash": "0336484af33f5c7151096e1cf228a578b6db634fc8bd65186790f9824a2dbaad"
  },
  "kernelspec": {
   "display_name": "Python 3.8.9 64-bit",
   "language": "python",
   "name": "python3"
  },
  "language_info": {
   "codemirror_mode": {
    "name": "ipython",
    "version": 3
   },
   "file_extension": ".py",
   "mimetype": "text/x-python",
   "name": "python",
   "nbconvert_exporter": "python",
   "pygments_lexer": "ipython3",
   "version": "3.8.9"
  },
  "orig_nbformat": 4
 },
 "nbformat": 4,
 "nbformat_minor": 2
}
